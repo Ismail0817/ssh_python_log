{
 "cells": [
  {
   "cell_type": "code",
   "execution_count": 4,
   "metadata": {},
   "outputs": [
    {
     "name": "stdout",
     "output_type": "stream",
     "text": [
      "Connected to the server\n",
      "['snap\\n']\n"
     ]
    }
   ],
   "source": [
    "import paramiko\n",
    "\n",
    "ssh = paramiko.SSHClient()\n",
    "ssh.set_missing_host_key_policy(paramiko.AutoAddPolicy())\n",
    "\n",
    "try:\n",
    "    ssh.connect('158.174.251.106', port=8001, username='xpgroup', password='dhaka123')\n",
    "    print('Connected to the server')\n",
    "    while True:\n",
    "        command = input('Enter a Linux command: ')\n",
    "        if command == 'exit':\n",
    "            break\n",
    "        stdin, stdout, stderr = ssh.exec_command(command)\n",
    "        print(stdout.readlines())\n",
    "except paramiko.AuthenticationException:\n",
    "    print('Authentication failed, please verify your credentials')\n",
    "except paramiko.SSHException as sshException:\n",
    "    print(f'Unable to establish SSH connection: {sshException}')\n",
    "except paramiko.Exception as e:\n",
    "    print(f'Exception in connecting to the server: {e}')\n",
    "\n",
    "ssh.close()"
   ]
  }
 ],
 "metadata": {
  "kernelspec": {
   "display_name": "Python 3.10.7 64-bit",
   "language": "python",
   "name": "python3"
  },
  "language_info": {
   "codemirror_mode": {
    "name": "ipython",
    "version": 3
   },
   "file_extension": ".py",
   "mimetype": "text/x-python",
   "name": "python",
   "nbconvert_exporter": "python",
   "pygments_lexer": "ipython3",
   "version": "3.10.7"
  },
  "orig_nbformat": 4,
  "vscode": {
   "interpreter": {
    "hash": "aee8b7b246df8f9039afb4144a1f6fd8d2ca17a180786b69acc140d282b71a49"
   }
  }
 },
 "nbformat": 4,
 "nbformat_minor": 2
}
