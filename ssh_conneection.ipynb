{
 "cells": [
  {
   "cell_type": "code",
   "execution_count": null,
   "metadata": {},
   "outputs": [],
   "source": [
    "import paramiko\n",
    "\n",
    "ssh = paramiko.SSHClient()\n",
    "ssh.set_missing_host_key_policy(paramiko.AutoAddPolicy())\n",
    "\n",
    "try:\n",
    "    ssh.connect('', port=, username='', password='')\n",
    "    print('Connected to the server')\n",
    "    while True:\n",
    "        command = input('Enter a Linux command: (exit to terminate) ')\n",
    "        if command == 'exit':\n",
    "            break\n",
    "        stdin, stdout, stderr = ssh.exec_command(command)\n",
    "        print(stdout.readlines())\n",
    "except paramiko.AuthenticationException:\n",
    "    print('Authentication failed, please verify your credentials')\n",
    "except paramiko.SSHException as sshException:\n",
    "    print(f'Unable to establish SSH connection: {sshException}')\n",
    "except paramiko.Exception as e:\n",
    "    print(f'Exception in connecting to the server: {e}')\n",
    "\n",
    "ssh.close()"
   ]
  },
  {
   "cell_type": "code",
   "execution_count": 18,
   "metadata": {},
   "outputs": [
    {
     "name": "stdout",
     "output_type": "stream",
     "text": [
      "Connected to the server\n"
     ]
    }
   ],
   "source": [
    "import paramiko\n",
    "import datetime\n",
    "\n",
    "ssh = paramiko.SSHClient()\n",
    "ssh.set_missing_host_key_policy(paramiko.AutoAddPolicy())\n",
    "\n",
    "now = datetime.datetime.now()\n",
    "filename = now.strftime(\"%Y%m%d_%H%M%S\") + '.txt'\n",
    "\n",
    "ip = input('Enter an IP address: ')\n",
    "port = input('Enter a port number: ')\n",
    "user = input('Enter username: ')\n",
    "password = input('Enter password: ')\n",
    "\n",
    "try:\n",
    "    \n",
    "    ssh.connect(ip, port=port, username=user, password=password)\n",
    "    print('Connected to the server')\n",
    "    while True:\n",
    "        command = input('Enter a Linux command: (exit to terminate) ')\n",
    "        if command == 'exit':\n",
    "            break\n",
    "        stdin, stdout, stderr = ssh.exec_command(command)\n",
    "        # print('Command : '+ command)\n",
    "        # print('output:\\n')\n",
    "        with open(filename, 'a') as f:\n",
    "            f.write('Command : '+ command)\n",
    "            f.write('\\noutput:\\n')\n",
    "            for line in stdout:\n",
    "                f.write(line.strip()+ '\\n')\n",
    "                # print(line.strip())\n",
    "        # for line in stdout:\n",
    "        #     print(line.strip())\n",
    "\n",
    "\n",
    "except paramiko.AuthenticationException:\n",
    "    print('Authentication failed, please verify your credentials')\n",
    "except paramiko.SSHException as sshException:\n",
    "    print(f'Unable to establish SSH connection: {sshException}')\n",
    "except paramiko.Exception as e:\n",
    "    print(f'Exception in connecting to the server: {e}')\n",
    "\n",
    "ssh.close()"
   ]
  },
  {
   "cell_type": "code",
   "execution_count": 9,
   "metadata": {},
   "outputs": [
    {
     "name": "stdout",
     "output_type": "stream",
     "text": [
      "Current date and time: \n",
      "20230505_141004\n",
      "20230505_141004.txt\n"
     ]
    }
   ],
   "source": [
    "import datetime\n",
    "\n",
    "now = datetime.datetime.now()\n",
    "print(\"Current date and time: \")\n",
    "# print(now.strftime(\"%Y%m%d_%H%M%S\"))\n",
    "filename = now.strftime(\"%Y%m%d_%H%M%S\") + '.txt'\n",
    "print(filename)"
   ]
  }
 ],
 "metadata": {
  "kernelspec": {
   "display_name": "Python 3.10.7 64-bit",
   "language": "python",
   "name": "python3"
  },
  "language_info": {
   "codemirror_mode": {
    "name": "ipython",
    "version": 3
   },
   "file_extension": ".py",
   "mimetype": "text/x-python",
   "name": "python",
   "nbconvert_exporter": "python",
   "pygments_lexer": "ipython3",
   "version": "3.10.7"
  },
  "orig_nbformat": 4,
  "vscode": {
   "interpreter": {
    "hash": "aee8b7b246df8f9039afb4144a1f6fd8d2ca17a180786b69acc140d282b71a49"
   }
  }
 },
 "nbformat": 4,
 "nbformat_minor": 2
}
