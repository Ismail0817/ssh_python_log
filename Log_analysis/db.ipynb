{
 "cells": [
  {
   "cell_type": "code",
   "execution_count": 14,
   "metadata": {},
   "outputs": [
    {
     "name": "stdout",
     "output_type": "stream",
     "text": [
      "(1, datetime.date(2023, 5, 1), datetime.timedelta(days=1, seconds=11701), 'sdf', 'sdf', 'sdf', 'gfg')\n",
      "(5, datetime.date(2023, 5, 9), datetime.timedelta(seconds=62461), 'sdf', 'sdf', 'sdf', 'sdf')\n",
      "(6, datetime.date(2023, 5, 9), datetime.timedelta(seconds=62461), 'sdf', 'sdf', 'sdf', 'sdf')\n",
      "(7, datetime.date(2023, 5, 9), datetime.timedelta(seconds=62461), 'sdf', 'sdf', 'sdf', 'sdf')\n",
      "(8, datetime.date(2023, 5, 9), datetime.timedelta(seconds=62461), 'sdf', 'sdf', 'sdf', 'sdf')\n",
      "(9, datetime.date(2023, 5, 9), datetime.timedelta(seconds=62461), 'sdf', 'sdf', 'sdf', 'sdf')\n",
      "(10, datetime.date(2023, 5, 9), datetime.timedelta(seconds=62461), 'sdf', 'sdf', 'sdf', 'sdf')\n",
      "(11, datetime.date(2023, 5, 9), datetime.timedelta(seconds=62461), 'sdf', 'sdf', 'sdf', 'sdf')\n",
      "(12, datetime.date(2023, 5, 9), datetime.timedelta(seconds=62461), 'sdf', 'sdf', 'sdf', 'sdf')\n",
      "(13, datetime.date(2023, 5, 9), datetime.timedelta(seconds=62461), 'sdf', 'sdf', 'sdf', 'sdf')\n",
      "(14, datetime.date(2023, 5, 9), datetime.timedelta(seconds=62461), 'sdf', 'sdf', 'sdf', 'sdf')\n",
      "(15, datetime.date(2023, 5, 9), datetime.timedelta(seconds=62461), 'sdf', 'sdf', 'sdf', 'sdf')\n",
      "(16, datetime.date(2023, 5, 9), datetime.timedelta(seconds=62461), 'sdf', 'sdf', 'sdf', 'sdf')\n",
      "(17, datetime.date(2023, 5, 9), datetime.timedelta(seconds=62461), 'sdf', 'sdf', 'sdf', 'sdf')\n",
      "(18, datetime.date(2023, 5, 9), datetime.timedelta(seconds=62461), 'sdf', 'sdf', 'sdf', 'sdf')\n",
      "(19, datetime.date(2023, 5, 9), datetime.timedelta(seconds=62461), 'sdf', 'sdf', 'sdf', 'sdf')\n",
      "(20, datetime.date(2023, 5, 9), datetime.timedelta(seconds=62461), 'sdf', 'sdf', 'sdf', 'sdf')\n",
      "(21, datetime.date(2023, 5, 9), datetime.timedelta(seconds=62461), 'sdf', 'sdf', 'sdf', 'sdf')\n",
      "(22, datetime.date(2023, 5, 9), datetime.timedelta(seconds=62461), 'sdf', 'sdf', 'sdf', 'sdf')\n",
      "(23, datetime.date(2023, 5, 9), datetime.timedelta(seconds=62461), 'sdf', 'sdf', 'sdf', 'sdf')\n",
      "(24, datetime.date(2023, 5, 9), datetime.timedelta(seconds=62461), 'sdf', 'sdf', 'sdf', 'sdf')\n",
      "(25, datetime.date(2023, 5, 9), datetime.timedelta(seconds=62461), 'sdf', 'sdf', 'sdf', 'sdf')\n",
      "(26, datetime.date(2023, 5, 9), datetime.timedelta(seconds=62461), 'sdf', 'sdf', 'sdf', 'sdf')\n",
      "(27, datetime.date(2023, 5, 9), datetime.timedelta(seconds=62461), 'sdf', 'sdf', 'sdf', 'sdf')\n",
      "(28, datetime.date(2023, 5, 9), datetime.timedelta(seconds=62461), 'sdf', 'sdf', 'sdf', 'sdf')\n",
      "(29, datetime.date(2023, 5, 9), datetime.timedelta(seconds=62461), 'sdf', 'sdf', 'sdf', 'sdf')\n",
      "(30, datetime.date(2023, 5, 9), datetime.timedelta(seconds=62461), 'sdf', 'sdf', 'sdf', 'sdf')\n",
      "(31, datetime.date(2023, 5, 9), datetime.timedelta(seconds=62461), 'sdf', 'sdf', 'sdf', 'sdf')\n",
      "(32, datetime.date(2023, 5, 9), datetime.timedelta(seconds=62461), 'sdf', 'sdf', 'sdf', 'sdf')\n",
      "(33, datetime.date(2023, 5, 9), datetime.timedelta(seconds=62461), 'sdf', 'sdf', 'sdf', 'sdf')\n"
     ]
    }
   ],
   "source": [
    "import mysql.connector\n",
    "\n",
    "# Replace these values with your database connection details\n",
    "db_config = {\n",
    "    'user': 'shojeeb',\n",
    "    'password': 'shojeeb',\n",
    "    'host': '192.168.10.244',\n",
    "    'database': 'ssh_log'\n",
    "}\n",
    "\n",
    "# Connect to the database\n",
    "cnx = mysql.connector.connect(**db_config)\n",
    "\n",
    "# Create a cursor object\n",
    "cursor = cnx.cursor()\n",
    "\n",
    "# Execute a query\n",
    "# query = 'INSERT INTO log (Date, Time, Host, Process, Message, Timezone) VALUES (\"2023-05-09\", \"17:21:01\", \"sdf\", \"sdf\", \"sdf\", \"sdf\")'\n",
    "query = 'SELECT * FROM log'\n",
    "cursor.execute(query)\n",
    "\n",
    "# Fetch and print the results\n",
    "for row in cursor:\n",
    "    print(row)\n",
    "\n",
    "# Close the cursor and connection\n",
    "cursor.close()\n",
    "cnx.close()"
   ]
  },
  {
   "cell_type": "code",
   "execution_count": 12,
   "metadata": {},
   "outputs": [],
   "source": [
    "import mysql.connector\n",
    "\n",
    "# Replace these values with your database connection details\n",
    "db_config = {\n",
    "    'user': 'shojeeb',\n",
    "    'password': 'shojeeb',\n",
    "    'host': '192.168.10.244',\n",
    "    'database': 'ssh_log'\n",
    "}\n",
    "\n",
    "# Connect to the database\n",
    "cnx = mysql.connector.connect(**db_config)\n",
    "\n",
    "# Create a cursor object\n",
    "cursor = cnx.cursor()\n",
    "\n",
    "# Execute a query\n",
    "query = 'INSERT INTO log (Date, Time, Host, Process, Message, Timezone) VALUES (\"2023-05-09\", \"17:21:01\", \"sdf\", \"sdf\", \"sdf\", \"sdf\")'\n",
    "cursor.execute(query)\n",
    "\n",
    "# Commit the changes\n",
    "cnx.commit()\n",
    "\n",
    "# Close the cursor and connection\n",
    "cursor.close()\n",
    "cnx.close()"
   ]
  }
 ],
 "metadata": {
  "kernelspec": {
   "display_name": "Python 3.10.7 64-bit",
   "language": "python",
   "name": "python3"
  },
  "language_info": {
   "codemirror_mode": {
    "name": "ipython",
    "version": 3
   },
   "file_extension": ".py",
   "mimetype": "text/x-python",
   "name": "python",
   "nbconvert_exporter": "python",
   "pygments_lexer": "ipython3",
   "version": "3.10.7"
  },
  "orig_nbformat": 4,
  "vscode": {
   "interpreter": {
    "hash": "aee8b7b246df8f9039afb4144a1f6fd8d2ca17a180786b69acc140d282b71a49"
   }
  }
 },
 "nbformat": 4,
 "nbformat_minor": 2
}
