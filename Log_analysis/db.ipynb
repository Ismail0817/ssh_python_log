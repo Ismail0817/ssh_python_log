{
 "cells": [
  {
   "cell_type": "code",
   "execution_count": 9,
   "metadata": {},
   "outputs": [],
   "source": [
    "import mysql.connector\n",
    "\n",
    "# Replace these values with your database connection details\n",
    "db_config = {\n",
    "    'user': 'shojeeb',\n",
    "    'password': 'shojeeb',\n",
    "    'host': '192.168.10.244',\n",
    "    'database': 'ssh_log'\n",
    "}\n",
    "\n",
    "# Connect to the database\n",
    "cnx = mysql.connector.connect(**db_config)\n",
    "\n",
    "# Create a cursor object\n",
    "cursor = cnx.cursor()\n",
    "\n",
    "# Execute a query\n",
    "# query = 'insert into log where (Date, Time, Host, Process, Message, Timezone) Values(\"2023-05-09\", \"17:21:01\", \"sdf\", \"sdf\",\"sdf\",\"sdf\";'\n",
    "query = 'INSERT INTO log (Date, Time, Host, Process, Message, Timezone) VALUES (\"2023-05-09\", \"17:21:01\", \"sdf\", \"sdf\", \"sdf\", \"sdf\")'\n",
    "# query = 'SELECT * FROM log'\n",
    "cursor.execute(query)\n",
    "\n",
    "# Fetch and print the results\n",
    "for row in cursor:\n",
    "    print(row)\n",
    "\n",
    "# Close the cursor and connection\n",
    "cursor.close()\n",
    "cnx.close()"
   ]
  }
 ],
 "metadata": {
  "kernelspec": {
   "display_name": "Python 3.10.7 64-bit",
   "language": "python",
   "name": "python3"
  },
  "language_info": {
   "codemirror_mode": {
    "name": "ipython",
    "version": 3
   },
   "file_extension": ".py",
   "mimetype": "text/x-python",
   "name": "python",
   "nbconvert_exporter": "python",
   "pygments_lexer": "ipython3",
   "version": "3.10.7"
  },
  "orig_nbformat": 4,
  "vscode": {
   "interpreter": {
    "hash": "aee8b7b246df8f9039afb4144a1f6fd8d2ca17a180786b69acc140d282b71a49"
   }
  }
 },
 "nbformat": 4,
 "nbformat_minor": 2
}
